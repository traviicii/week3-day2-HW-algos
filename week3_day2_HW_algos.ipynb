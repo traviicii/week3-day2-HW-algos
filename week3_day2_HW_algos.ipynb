{
 "cells": [
  {
   "cell_type": "code",
   "execution_count": 40,
   "id": "47fa960e",
   "metadata": {},
   "outputs": [
    {
     "name": "stdout",
     "output_type": "stream",
     "text": [
      "['.', 'ecnetnes', 'a', 'si', 'siht']\n",
      "['.', 'yadot', 'ylno', 'tub', 'today', 'taerg', 'os', 'skool', 'ydobyrevE']\n"
     ]
    }
   ],
   "source": [
    "# Exercise #1\n",
    "# Reverse the list below in-place using an in-place algorithm.\n",
    "# For extra credit: Reverse the strings at the same time.\n",
    "\n",
    "words = ['this' , 'is', 'a', 'sentence', '.']\n",
    "\n",
    "test = ['Everybody', 'looks', 'so', 'great', 'today', 'but', 'only', 'today', '.']\n",
    "\n",
    "def reverseIt(lst):\n",
    "\n",
    "    left = 0\n",
    "    right = len(lst) - 1\n",
    "    while left < right:\n",
    "        lst[left], lst[right] = lst[right][::-1], lst[left][::-1]\n",
    "        left += 1\n",
    "        right -= 1\n",
    "\n",
    "reverseIt(words)\n",
    "print(words)\n",
    "\n",
    "reverseIt(test)\n",
    "print(test)\n",
    "        \n",
    "    "
   ]
  },
  {
   "cell_type": "code",
   "execution_count": 2,
   "id": "e08a44a6",
   "metadata": {},
   "outputs": [
    {
     "name": "stdout",
     "output_type": "stream",
     "text": [
      "{'a': 5, 'abstract': 1, 'an': 3, 'array': 2, 'associative': 1, 'be': 1, 'buckets': 1, 'can': 2, 'compute': 1, 'computing': 1, 'data': 2, 'desired': 1, 'found': 1, 'from': 1, 'function': 1, 'hash': 4, 'implements': 1, 'in': 1, 'index': 1, 'into': 1, 'is': 1, 'keys': 1, 'map': 2, 'of': 1, 'or': 1, 'slots': 1, 'structure': 2, 'table': 2, 'that': 1, 'the': 1, 'to': 2, 'type': 1, 'uses': 1, 'value': 1, 'values': 1, 'which': 2}\n"
     ]
    }
   ],
   "source": [
    "# Exercise #2\n",
    "# Create a function that counts how many distinct words are in the string below, then outputs a dictionary with the words as the key and the value as the amount of times that word appears in the string.\n",
    "# Should output:\n",
    "# {'a': 5,\n",
    "# 'abstract': 1,\n",
    "# 'an': 3,\n",
    "# 'array': 2, ... etc...\n",
    "\n",
    "#counting algorithm\n",
    "a_text = 'In computing, a hash table hash map is a data structure which implements an associative array abstract data type, a structure that can map keys to values. A hash table uses a hash function to compute an index into an array of buckets or slots from which the desired value can be found'\n",
    "\n",
    "def wordCount(txt):\n",
    "    sortedtxt = sorted(txt.lower().split())\n",
    "    words = dict()\n",
    "    for word in sortedtxt:\n",
    "        if word in words:\n",
    "            words[word] += 1\n",
    "        elif word.isalpha():\n",
    "            words[word] = 1\n",
    "        else: \n",
    "            word = word[0:-1] #since each word has already been split and spaces removed, -1 index works to remove commas or periods\n",
    "            if word in words:\n",
    "                words[word] += 1\n",
    "            elif word.isalpha():\n",
    "                words[word] = 1\n",
    "    return words\n",
    "\n",
    "test = \"This, is. a, test. to, remove, commas. and, periods.\"\n",
    "\n",
    "print(wordCount(a_text))\n",
    "\n"
   ]
  },
  {
   "cell_type": "code",
   "execution_count": 15,
   "id": "acbb7e84",
   "metadata": {},
   "outputs": [
    {
     "name": "stdout",
     "output_type": "stream",
     "text": [
      "Found 49 at index [16].\n",
      "There was only one 49 in the list.\n"
     ]
    }
   ],
   "source": [
    "# Exercise #3\n",
    "# Write a program to implement a Linear Search Algorithm. Also in a comment, write the Time Complexity of the following algorithm.\n",
    "\n",
    "# Hint: Linear Searching will require searching a list for a given number.\n",
    "\n",
    "nums = [2,7,9,7,4,2,44,6,8,9,0,89,6,3123,34,94.22,49,5,5,5,5,8,7,6]\n",
    "\n",
    "def findIt(lst, target):\n",
    "    count = 0\n",
    "    for i in range(0,len(lst)):\n",
    "        if lst[i] == target:\n",
    "            print(f'Found {target} at index [{i}].')\n",
    "            count += 1\n",
    "    return f\"There was only one {target} in the list.\" if count == 1 else f\"I found {target}: {count} times!\"\n",
    "            \n",
    "        \n",
    "#Time complexity for a linear search is understood to be O(n) since each item in the list has to be compared once\n",
    "#until the number is found. Best case scenario is O(1) where the element being searched for is the first element.\n",
    "#O(n) is the worst case scenario.\n",
    "\n",
    "print(findIt(nums,49))\n"
   ]
  }
 ],
 "metadata": {
  "kernelspec": {
   "display_name": "Python 3 (ipykernel)",
   "language": "python",
   "name": "python3"
  },
  "language_info": {
   "codemirror_mode": {
    "name": "ipython",
    "version": 3
   },
   "file_extension": ".py",
   "mimetype": "text/x-python",
   "name": "python",
   "nbconvert_exporter": "python",
   "pygments_lexer": "ipython3",
   "version": "3.9.7"
  }
 },
 "nbformat": 4,
 "nbformat_minor": 5
}
